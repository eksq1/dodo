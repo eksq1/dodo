{
  "nbformat": 4,
  "nbformat_minor": 0,
  "metadata": {
    "colab": {
      "provenance": [],
      "authorship_tag": "ABX9TyPUsp48TnwFNBk1lX63E4gF",
      "include_colab_link": true
    },
    "kernelspec": {
      "name": "python3",
      "display_name": "Python 3"
    },
    "language_info": {
      "name": "python"
    }
  },
  "cells": [
    {
      "cell_type": "markdown",
      "metadata": {
        "id": "view-in-github",
        "colab_type": "text"
      },
      "source": [
        "<a href=\"https://colab.research.google.com/github/eksq1/dodo/blob/main/inclass/mobile.ipynb\" target=\"_parent\"><img src=\"https://colab.research.google.com/assets/colab-badge.svg\" alt=\"Open In Colab\"/></a>"
      ]
    },
    {
      "cell_type": "markdown",
      "source": [
        "# MainActivity"
      ],
      "metadata": {
        "id": "KbFpfxPm_qRx"
      }
    },
    {
      "cell_type": "code",
      "source": [
        "package com.android.dmu2401finalexam\n",
        "\n",
        "import android.content.Intent\n",
        "import androidx.appcompat.app.AppCompatActivity\n",
        "import android.os.Bundle\n",
        "import android.os.Environment\n",
        "import android.text.Editable\n",
        "import android.text.TextWatcher\n",
        "import android.util.Log\n",
        "import com.android.dmu2401finalexam.databinding.ActivityMainBinding\n",
        "import java.io.BufferedReader\n",
        "import java.io.File\n",
        "import java.io.FileOutputStream\n",
        "import java.io.FileReader\n",
        "\n",
        "class MainActivity : AppCompatActivity() {\n",
        "\n",
        "    // binding 변수의 데이터 타입은 레이아웃 파일의 파일 이름으로부터 유추 가능\n",
        "    lateinit var binding: ActivityMainBinding\n",
        "\n",
        "    // SharedPreference 영역의 파일 이름을 가져오면 코드가 길어지기 때문에\n",
        "    // 파일 이름을 관리할 임시 변수 선언\n",
        "    lateinit var tmpFilename: String\n",
        "\n",
        "    var isSaved: Boolean = false   // 공유 데이터로, 메모 내용이 저장되었는지 여부를 관리\n",
        "                                    // false: 저장안됨, true: 저장됨\n",
        "    var state: Int = 1              // 초기 시작 상태를 구분하는 상태 코드 선언/정의\n",
        "\n",
        "    // Activity 이동을 위한 intent 객체 선언/정의\n",
        "    lateinit var filenameIntent: Intent\n",
        "    lateinit var filelistIntent: Intent\n",
        "\n",
        "    // 파일 저장 위치 설정\n",
        "    val fileSaveLocation = Environment.getExternalStoragePublicDirectory(Environment.DIRECTORY_DOCUMENTS).toString()\n",
        "\n",
        "    // lifecycle - 첫 번째 함수 onCreate 시작\n",
        "    override fun onCreate(savedInstanceState: Bundle?) {\n",
        "        super.onCreate(savedInstanceState)\n",
        "        //setContentView(R.layout.activity_main)\n",
        "        // binding 변수 초기화\n",
        "        binding = ActivityMainBinding.inflate(layoutInflater)\n",
        "        setContentView(binding.root)\n",
        "\n",
        "        filenameIntent =  Intent(this, FilenameActivity::class.java)\n",
        "        filelistIntent =  Intent(this, FilelistActivity::class.java)\n",
        "\n",
        "        // 공유 데이터 초기화 - 마지막 값이 android에 저장되기 때문에\n",
        "        MyApplication.preferences.setString(\"filename\", \"new\")\n",
        "        MyApplication.preferences.setBoolean(\"isSaved\", false)\n",
        "        MyApplication.preferences.setString(\"saveLocation\", fileSaveLocation)\n",
        "\n",
        "        // 공유 데이터에서 파일 이름과 메모 저장 상태 가져오기\n",
        "        tmpFilename = MyApplication.preferences.getString(\"filename\", \"new\")\n",
        "        isSaved = MyApplication.preferences.getBoolean(\"isSaved\", false)\n",
        "        Log.d(\"myCheck\", \"시작할 때 파일 이름은 ${tmpFilename}\")\n",
        "        Log.d(\"myCheck\", \"시작할 때 저장 상태는 ${isSaved}\")\n",
        "\n",
        "        // filenameToSave의 값을 \"파일 이름\"을 나타내는 컴포넌트에 표시\n",
        "        binding.tvFilename.setText(tmpFilename)\n",
        "        // 메모 내용이 저장된 상태이면 \"메모 저장\"을 비활성화하는 것으로\n",
        "        // 저장해야할 필요가 있으면, 즉 isSaved == false이면 활성화한다.\n",
        "        if(! isSaved) {\n",
        "            binding.btnSave.isEnabled = false\n",
        "        } else {  // 초기 상태이기 때문에 여기서 else 이하는 필요하지 않음\n",
        "            binding.btnSave.isEnabled = true\n",
        "        }\n",
        "\n",
        "        // 초기 시작 상태를 구분하는 상태 코드 정의\n",
        "        state = 1\n",
        "\n",
        "        binding.btnNewMemo.setOnClickListener() {\n",
        "            Log.d(\"myCheck\", \"새 메모 버튼 클릭\")\n",
        "            state = 2\n",
        "            if(isSaved || binding.edMemo.text.toString().length == 0 ){\n",
        "                // 저장 되었거나, 메모 내용의 길이가 0인 경우 다시 저장할 필요가 없어\n",
        "                // 메모 내용 clear하고, 파일 이름을 초기화 등\n",
        "                Log.d(\"myCheck\", \"이미 저장되었거나 메모 내용이 없는 경우 \")\n",
        "                binding.edMemo.setText(\"\")\n",
        "                MyApplication.preferences.setString(\"filename\", \"new\")\n",
        "                tmpFilename = \"new\"\n",
        "                binding.tvFilename.setText(tmpFilename)\n",
        "                MyApplication.preferences.setBoolean(\"isSaved\", false)\n",
        "                isSaved = false\n",
        "                binding.btnSave.isEnabled = false\n",
        "            } else {\n",
        "                // 저장되지 않았거나 메모 내용이 있을 때 저장해야 한다.\n",
        "                // 파일 이름이 있는 경우와 없는 경우 구분\n",
        "                if(tmpFilename == \"new\" || tmpFilename == \"new*\") {\n",
        "                    // 파일 이름이 없어 파일을 입력받기 위한 Activity 이동 후 파일 이름을 입력 받아 돌아온 뒤에\n",
        "                    // onResume에서 state 구분해서 2인 경우 받아온 파일 이름으로 저장\n",
        "                    Log.d(\"myCheck\", \"현재 파일 이름이 new인 경우 \")\n",
        "                    startActivity( filenameIntent )  // 파일 이름을 입력받기 위한 intent 이동\n",
        "                } else {\n",
        "                    // 파일 이름이 있는 경우\n",
        "                    // 파일 저장\n",
        "                    Log.d(\"myCheck\", \"이미 파일 이름이 존재하는 경우, 저장하고 clear\")\n",
        "                    saveMemo()\n",
        "                    binding.edMemo.setText(\"\")\n",
        "                    MyApplication.preferences.setString(\"filename\", \"new\")\n",
        "                    tmpFilename = \"new\"\n",
        "                    binding.tvFilename.setText(tmpFilename)\n",
        "                    MyApplication.preferences.setBoolean(\"isSaved\", false)\n",
        "                    isSaved = false\n",
        "                    binding.btnSave.isEnabled = false\n",
        "                }\n",
        "            }\n",
        "        }\n",
        "\n",
        "        binding.btnSave.setOnClickListener() {\n",
        "            Log.d(\"myCheck\", \"메모 저장 버튼을 클릭한 경우 \")\n",
        "            state = 4  // 메모 저장 버튼을 클릭해서 intent 이동후 복귀할 때 구분하기 위한 값\n",
        "            if (tmpFilename == \"new\" || tmpFilename == \"new*\") {\n",
        "                Log.d(\"myCheck\", \"현재 파일 이름이 new인 경우 \")\n",
        "                // 파일 이름이 없어 파일을 입력받기 위한 Activity 이동 후 파일 이름을 입력 받아 돌아온 뒤에\n",
        "                // onResume에서 state 구분해서 4인 경우 받아온 파일 이름으로 저장\n",
        "                startActivity(filenameIntent)  // 파일 이름을 입력받기 위한 intent 이동            }\n",
        "                // 파일 이름을 입력받고 온 경우는 onResume에서 처리해야 함.\n",
        "            } else {\n",
        "                // 파일 이름이 있는 경우\n",
        "                // 파일 저장\n",
        "                Log.d(\"myCheck\", \"현재 파일 이름이 있는 경우 저장하고, 파일 이름 뒤에 * 제거\")\n",
        "                saveMemo()\n",
        "                // 화면에 파일 이름 뒤에 표시된 \"*\"를 제거해야 한다.\n",
        "                if( binding.tvFilename.text.toString().substring(binding.tvFilename.text.toString().length - 1 ) == \"*\") {\n",
        "                    binding.tvFilename.setText(\n",
        "                        // 0번째 문자부터 (길이 - 1)까지만 다시 화며에 표시한다.\n",
        "                        binding.tvFilename.text.toString().substring(0, binding.tvFilename.text.toString().length - 1)\n",
        "                    )\n",
        "                }\n",
        "            }\n",
        "        }\n",
        "\n",
        "        binding.btnOpen.setOnClickListener() {\n",
        "            Log.d(\"myCheck\", \"메모 열기 버튼을 클릭한 경우 \")\n",
        "            Log.d(\"myCheck\", \"파일 열기에서 isSaved는 ${isSaved}\")\n",
        "            Log.d(\"myCheck\", \"파일 열기에서 메모 내용의 길이는 ${binding.edMemo.text.toString()?.length?:0}\")\n",
        "            if(isSaved || binding.edMemo.text.toString().length == 0 ){\n",
        "                // 현재 메모를 저장할 필요가 없는 경우\n",
        "                state = 8\n",
        "                // 파일 목록 activity로 이동\n",
        "                startActivity(filelistIntent)\n",
        "            } else {\n",
        "                // 저장되지 않았거나 메모 내용이 있을 때 저장해야 한다.\n",
        "                // 파일 이름이 있는 경우와 없는 경우 구분\n",
        "                // 현재 메모를 저장해야 하는 경우\n",
        "                if(tmpFilename == \"new\" || tmpFilename == \"new*\") {\n",
        "                    state = 12\n",
        "                    // 파일 이름이 없어 파일을 입력받기 위한 Activity 이동 후 파일 이름을 입력 받아 돌아온 뒤에\n",
        "                    // onResume에서 state 구분해서 2인 경우 받아온 파일 이름으로 저장\n",
        "                    Log.d(\"myCheck\", \"현재 파일 이름이 new인 경우 \")\n",
        "                    // 파일 이름이 없기 때문에 먼저 파일 이름 입력을 위한 인텐트 이동 필요\n",
        "                    // onResume에서 state == 12인 경우, 다시 파일 목록을 나타내는 intent로 이동\n",
        "                    // onResume에서 state = 8로 다시 설정해야 함.\n",
        "                    startActivity( filenameIntent )  // 파일 이름을 입력받기 위한 intent 이동\n",
        "                } else {\n",
        "                    state = 8\n",
        "                    // 파일 이름이 있는 경우\n",
        "                    // 파일 저장\n",
        "                    Log.d(\"myCheck\", \"이미 파일 이름이 존재하는 경우, 저장하고 clear\")\n",
        "                    saveMemo()\n",
        "                    // 파일 목록 activity로 이동\n",
        "                    startActivity(filelistIntent)\n",
        "                }\n",
        "            }\n",
        "        }\n",
        "\n",
        "        // editText 메모 컴포넌트에서 데이터 변화가 있는지 이벤트 처리\n",
        "        binding.edMemo.addTextChangedListener( object: TextWatcher {\n",
        "            // TextWatcher는 기본 3가지 함수를 override해야 한다.\n",
        "            override fun beforeTextChanged(s: CharSequence?, start: Int, count: Int, after: Int) {\n",
        "                // editText 컴포넌트에서 글자를 입력하기 직전\n",
        "            }\n",
        "\n",
        "            override fun onTextChanged(s: CharSequence?, start: Int, before: Int, count: Int) {\n",
        "                // editText 컴포넌트에서 글자를 입력할 때\n",
        "                // 글자 입력이 있었기에 저장해야 하므로, 공유 데이터에서 해당 변수값을 true로 설정\n",
        "                MyApplication.preferences.setBoolean(\"isSaved\", true)\n",
        "                // 저장해야 하므로, 화면 UI에서 \"메모 저장\" 버튼 활성화\n",
        "                binding.btnSave.isEnabled = true\n",
        "                // 현재 표시되고 있는 파일 이름의 끝에 한 글자 띄어내기 - '*'이면 '저장 전', 아니면 '저장 후'\n",
        "                var tmp = binding.tvFilename.text.toString().substring(\n",
        "                    binding.tvFilename.text.toString().length - 1)\n",
        "                // '*'이 아니면, \"*\" 붙이기 - 수정되었다는 표시\n",
        "                if(tmp != \"*\") {\n",
        "                    // 파일 이름 뒤에 \"*\" 붙이는 것은 화면에서만 보이도록 함.\n",
        "                    // 공유 데이터 영역에 저장된 \"filename\"의 값에는 붙이지 않는다.\n",
        "                    binding.tvFilename.text = binding.tvFilename.text.toString() + \"*\"\n",
        "                }\n",
        "            }\n",
        "\n",
        "            override fun afterTextChanged(s: Editable?) {\n",
        "                // editText 컴포넌트에서 글자를 입력한 뒤에\n",
        "                // onTextChanged에 있는 내용을 afterTextChanged에서 해도 관계 없음.\n",
        "            }\n",
        "        })\n",
        "    } // onCreate의 끝\n",
        "\n",
        "    // 파일 저장 함수\n",
        "    fun saveMemo() {\n",
        "        tmpFilename = MyApplication.preferences.getString(\"filename\", \"\")\n",
        "        Log.d(\"myCheck\", \"메모 내용을 [${tmpFilename}](으)로 저장.\")\n",
        "        val baseDir = MyApplication.preferences.getString(\"saveLocation\", \".\")\n",
        "        val file = File(baseDir, tmpFilename)\n",
        "        val fileOutputStream = FileOutputStream(file)\n",
        "        fileOutputStream.write(binding.edMemo.text.toString().toByteArray())\n",
        "        fileOutputStream.close()\n",
        "    }\n",
        "\n",
        "    // 파일 열기 함수\n",
        "    fun openMemo() {\n",
        "        tmpFilename = MyApplication.preferences.getString(\"filename\", \"\")\n",
        "        Log.d(\"myCheck\", \"선택한 [${tmpFilename}] 메모 파일 열기\")\n",
        "        val baseDir = MyApplication.preferences.getString(\"saveLocation\", \".\")\n",
        "        val file = baseDir + \"/\" + tmpFilename\n",
        "        val reader = FileReader(file)\n",
        "        var buffer = BufferedReader(reader)\n",
        "\n",
        "        var readContent: String = \"\"\n",
        "        var temp: String?\n",
        "        while(true) {\n",
        "            temp = buffer.readLine()\n",
        "            if(temp == null) break\n",
        "            else readContent += temp + \"\\n\"\n",
        "        }\n",
        "\n",
        "        binding.edMemo.setText(readContent)\n",
        "        binding.tvFilename.setText(tmpFilename)\n",
        "    }\n",
        "\n",
        "\n",
        "    override fun onResume() {\n",
        "        super.onResume()\n",
        "        // onResume 함수로 진입하는 경우를 구분해야 함.\n",
        "        // 아래 when 블록에서 state 값에 따라 중복되는 코드가 있음, 별도의 함수로 분리해야 하나,\n",
        "        // 이해를 쉽게하기 위해 중복된 코드를 그대로 사용함.\n",
        "        when(state) {\n",
        "            1 -> {\n",
        "                    // 초기 상태에서 onResume으로 진입한 경우\n",
        "                    // 이 경우는 할 일이 없음\n",
        "            }\n",
        "            2 -> {\n",
        "                    // 새 메모 버튼을 클릭했을 때 파일 이름 입력 받기위한 Intent 이동후 onResume으로 진입한 경우\n",
        "                    // 작성 중인 메모가 저장되지 않았기 때문에, 파일 이름을 입력받은 것이다.\n",
        "                    // 입력된 파일 이름으로 메모 저장하고,\n",
        "                    // 현재 메모의 내용을 화면에서 지우고, 파일 이름 초기화하고, 메모 저장 버튼의 상태도 초기화한다.\n",
        "                    // 입력된 파일 이름 가져오기\n",
        "                    tmpFilename = MyApplication.preferences.getString(\"filename\", \"\")\n",
        "                    // 메모 저장\n",
        "                    saveMemo()\n",
        "                    // 초기화\n",
        "                    binding.edMemo.setText(\"\")\n",
        "                    MyApplication.preferences.setString(\"filename\", \"new\")\n",
        "                    tmpFilename = \"new\"\n",
        "                    binding.tvFilename.setText(tmpFilename)\n",
        "                    MyApplication.preferences.setBoolean(\"isSaved\", false)\n",
        "                    isSaved = false\n",
        "                    binding.btnSave.isEnabled = false\n",
        "            }\n",
        "            4 -> {\n",
        "                    // 메모 저장 버튼을 클릭했을 때 파일 이름 입력 받기위한 Intent 이동후 onResume으로 진입한 경우\n",
        "                    // state == 2일 때와 같지만, 초기화가 없다 .\n",
        "                    // 입력된 파일 이름 가져오기\n",
        "                    tmpFilename = MyApplication.preferences.getString(\"filename\", \"\")\n",
        "                    binding.tvFilename.setText(tmpFilename)\n",
        "                    // 메모 저장\n",
        "                    saveMemo()\n",
        "            }\n",
        "            8 -> {\n",
        "                    // 메모 열기 버튼을 클릭했을 때 파일 이름 입력 받기위한 Intent 이동후 onResume으로 진입한 경우\n",
        "                    // 파일 목록으로 이동하기 전에 현재 메모 내용이 한 번도 저장되지 않은 경우로\n",
        "                    // state == 2 또는 state == 4인 경우와 같지만, 초기화가 없고\n",
        "                    // 가져온 파일 목록으로 파일을 열어야 한다.\n",
        "                    // 입력된 파일 이름 가져오기\n",
        "                    //tmpFilename = MyApplication.preferences.getString(\"filename\", \"\")\n",
        "                    // 메모 열기\n",
        "                    openMemo()\n",
        "            }\n",
        "            12 -> {\n",
        "                // 메모 열기에서 파일 이름이 없어 먼저 filenameIntent로 이동했다가 돌아온 경우\n",
        "                // 파일 저장\n",
        "                // 파일 목록 intent로 이동\n",
        "                state = 8\n",
        "                startActivity(filelistIntent)\n",
        "                // 파일 리스트 선택하고 다시 state == 8로 진행...\n",
        "            }\n",
        "        }\n",
        "    }\n",
        "\n",
        "    override fun onDestroy() {\n",
        "        super.onDestroy()\n",
        "        Log.d(\"myCheck\", \"기말 시험 보느라 수고하셨습니다.\")\n",
        "    }\n",
        "}"
      ],
      "metadata": {
        "colab": {
          "base_uri": "https://localhost:8080/",
          "height": 109
        },
        "id": "wbAb4Lkv_qAI",
        "outputId": "e05b9832-bcef-4b8d-d60d-41e9657651e9"
      },
      "execution_count": 1,
      "outputs": [
        {
          "output_type": "error",
          "ename": "SyntaxError",
          "evalue": "invalid decimal literal (<ipython-input-1-0323f0968ff4>, line 75)",
          "traceback": [
            "\u001b[0;36m  File \u001b[0;32m\"<ipython-input-1-0323f0968ff4>\"\u001b[0;36m, line \u001b[0;32m75\u001b[0m\n\u001b[0;31m    // 저장 되었거나, 메모 내용의 길이가 0인 경우 다시 저장할 필요가 없어\u001b[0m\n\u001b[0m                           ^\u001b[0m\n\u001b[0;31mSyntaxError\u001b[0m\u001b[0;31m:\u001b[0m invalid decimal literal\n"
          ]
        }
      ]
    },
    {
      "cell_type": "markdown",
      "source": [
        "# PreferenceUtil"
      ],
      "metadata": {
        "id": "G6K1MsKOAAVV"
      }
    },
    {
      "cell_type": "code",
      "source": [
        "package com.android.dmu2401finalexam\n",
        "\n",
        "import android.content.Context\n",
        "import android.content.SharedPreferences\n",
        "\n",
        "class PreferenceUtil(context: Context) {\n",
        "\n",
        "    private val preferences: SharedPreferences =\n",
        "        context.getSharedPreferences(\"shared_data\", Context.MODE_PRIVATE)\n",
        "\n",
        "    fun getString(key: String, shared_data: String): String {\n",
        "        return preferences.getString(key, shared_data).toString()\n",
        "    }\n",
        "\n",
        "    fun getBoolean(key: String, shared_data: Boolean): Boolean {\n",
        "        return preferences.getBoolean(key, shared_data)\n",
        "    }\n",
        "\n",
        "    fun setString(key: String, shared_data: String) {\n",
        "        preferences.edit().putString(key, shared_data).apply()\n",
        "    }\n",
        "\n",
        "    fun setBoolean(key: String, shared_data: Boolean) {\n",
        "        preferences.edit().putBoolean(key, shared_data).apply()\n",
        "    }\n",
        "}"
      ],
      "metadata": {
        "colab": {
          "base_uri": "https://localhost:8080/",
          "height": 109
        },
        "id": "nKQwD4AmAAFP",
        "outputId": "b5c876ab-6353-4d0a-cef6-ee1353213b84"
      },
      "execution_count": 3,
      "outputs": [
        {
          "output_type": "error",
          "ename": "SyntaxError",
          "evalue": "invalid syntax (<ipython-input-3-8b461be4e7c2>, line 1)",
          "traceback": [
            "\u001b[0;36m  File \u001b[0;32m\"<ipython-input-3-8b461be4e7c2>\"\u001b[0;36m, line \u001b[0;32m1\u001b[0m\n\u001b[0;31m    package com.android.dmu2401finalexam\u001b[0m\n\u001b[0m            ^\u001b[0m\n\u001b[0;31mSyntaxError\u001b[0m\u001b[0;31m:\u001b[0m invalid syntax\n"
          ]
        }
      ]
    },
    {
      "cell_type": "markdown",
      "source": [
        "# MyApplication"
      ],
      "metadata": {
        "id": "8vvKMqbPAQCz"
      }
    },
    {
      "cell_type": "code",
      "source": [
        "package com.android.dmu2401finalexam\n",
        "\n",
        "import android.app.Application\n",
        "\n",
        "class #: Application() {\n",
        "\n",
        "    companion object {\n",
        "        lateinit var preferences: PreferenceUtil     // 사용자 정의 타입(클래스)\n",
        "    }\n",
        "\n",
        "    override fun onCreate() {\n",
        "        super.onCreate()\n",
        "        preferences = PreferenceUtil(applicationContext)\n",
        "\n",
        "    }\n",
        "}"
      ],
      "metadata": {
        "colab": {
          "base_uri": "https://localhost:8080/",
          "height": 109
        },
        "id": "rHRZjjT7APwP",
        "outputId": "39626990-80fa-498e-edcb-cd4e0ab837a3"
      },
      "execution_count": 4,
      "outputs": [
        {
          "output_type": "error",
          "ename": "SyntaxError",
          "evalue": "unmatched '}' (<ipython-input-4-5b2afa283c8b>, line 16)",
          "traceback": [
            "\u001b[0;36m  File \u001b[0;32m\"<ipython-input-4-5b2afa283c8b>\"\u001b[0;36m, line \u001b[0;32m16\u001b[0m\n\u001b[0;31m    }\u001b[0m\n\u001b[0m    ^\u001b[0m\n\u001b[0;31mSyntaxError\u001b[0m\u001b[0;31m:\u001b[0m unmatched '}'\n"
          ]
        }
      ]
    },
    {
      "cell_type": "markdown",
      "source": [
        "# FilenameActivity"
      ],
      "metadata": {
        "id": "-N_oZKN7AXtK"
      }
    },
    {
      "cell_type": "code",
      "source": [
        "package com.android.dmu2401finalexam\n",
        "\n",
        "import androidx.appcompat.app.AppCompatActivity\n",
        "import android.os.Bundle\n",
        "import android.widget.Toast\n",
        "import com.android.dmu2401finalexam.databinding.ActivityFilenameBinding\n",
        "\n",
        "class FilenameActivity : AppCompatActivity() {\n",
        "    // viewBinding 사용을 위한 binding 변수 선언\n",
        "    lateinit var binding: ActivityFilenameBinding\n",
        "    var filename: String? = \"\"\n",
        "\n",
        "    override fun onCreate(savedInstanceState: Bundle?) {\n",
        "        super.onCreate(savedInstanceState)\n",
        "        //setContentView(R.layout.activity_filename)\n",
        "        // viewBinding 사용을 위한 binding 변수 초기화\n",
        "        binding = ActivityFilenameBinding.inflate(layoutInflater)\n",
        "        setContentView(binding.root)\n",
        "\n",
        "        // 파일이름을 입력하는 레이아웃에서 \"확인\" 버튼 이벤트 처리\n",
        "        binding.btnConfirm.setOnClickListener() {\n",
        "            // 입력된 파일 이름 검증\n",
        "            // 길이가 0이 아이어야 한다.\n",
        "            // 확장자는 자동으로 .txt를 붙인다.\n",
        "            filename = binding.edFilename.text.toString()\n",
        "            if(filename!!.length >= 1) {\n",
        "                if (!filename!!.contains(\".\")) {\n",
        "                    // 파일 이름의 길이가 1이상이고, 이름에 \".\"을 포힘하지 않는 경우\n",
        "                    // shared preference에 키를 \"filename\"으로하고, filename 변수의 값을 저장한다.\n",
        "                    MyApplication.preferences.setString(\"filename\", filename!! + \".txt\")\n",
        "                    // 파일 이름이 결정되었기에, 파일 이름 입력을 위한 Intent 종료\n",
        "                    finish()\n",
        "                } else {\n",
        "                    // 파일 이름에 확장자가 포함된 경우 Toast 메시지를 나타낸다.\n",
        "                    Toast.makeText(this, \"파일 이름에 확장자가 포함되어 있습니다.\", Toast.LENGTH_SHORT).show()\n",
        "                }\n",
        "            } else {\n",
        "                // 파일 이름의 길이가 1보다 작은 경우로 파일 이름이 입력되지 않은 경우\n",
        "                // Toast 메시지를 나타낸다.\n",
        "                Toast.makeText(this, \"파일 이름이 입력되지 않았습니다.\", Toast.LENGTH_SHORT).show()\n",
        "            }\n",
        "        }\n",
        "    }\n",
        "}"
      ],
      "metadata": {
        "colab": {
          "base_uri": "https://localhost:8080/",
          "height": 109
        },
        "id": "YmHfR3DXAXh4",
        "outputId": "672834e0-c46b-422f-fa21-0ae60ea53093"
      },
      "execution_count": 5,
      "outputs": [
        {
          "output_type": "error",
          "ename": "SyntaxError",
          "evalue": "invalid decimal literal (<ipython-input-5-ca129e67ff55>, line 23)",
          "traceback": [
            "\u001b[0;36m  File \u001b[0;32m\"<ipython-input-5-ca129e67ff55>\"\u001b[0;36m, line \u001b[0;32m23\u001b[0m\n\u001b[0;31m    // 길이가 0이 아이어야 한다.\u001b[0m\n\u001b[0m           ^\u001b[0m\n\u001b[0;31mSyntaxError\u001b[0m\u001b[0;31m:\u001b[0m invalid decimal literal\n"
          ]
        }
      ]
    },
    {
      "cell_type": "markdown",
      "source": [
        "# FilelistActivity"
      ],
      "metadata": {
        "id": "VgLg5WwYAXTM"
      }
    },
    {
      "cell_type": "code",
      "source": [
        "package com.android.dmu2401finalexam\n",
        "\n",
        "import android.R\n",
        "import androidx.appcompat.app.AppCompatActivity\n",
        "import android.os.Bundle\n",
        "import android.os.Environment\n",
        "import android.util.Log\n",
        "import android.widget.ArrayAdapter\n",
        "import com.android.dmu2401finalexam.databinding.ActivityFilelistBinding\n",
        "import java.io.File\n",
        "\n",
        "class FilelistActivity : AppCompatActivity() {\n",
        "    // viewBinding 사용을 위한 binding 변수 선언\n",
        "    lateinit var binding: ActivityFilelistBinding\n",
        "    lateinit var filelistArray: ArrayList<String>\n",
        "\n",
        "    override fun onCreate(savedInstanceState: Bundle?) {\n",
        "        super.onCreate(savedInstanceState)\n",
        "        //setContentView(R.layout.activity_filelist)\n",
        "        // viewBinding 사용을 위한 binding 변수 초기화\n",
        "        binding = ActivityFilelistBinding.inflate(layoutInflater)\n",
        "        setContentView(binding.root)\n",
        "\n",
        "        Log.d(\"myCheck\", \"FilelistAcctivity 시작\")\n",
        "        // 지정된 디렉터리에서 목록을 읽어\n",
        "        // 파일 이름만 arrayList에 담아\n",
        "        // arrayList를 이용해서 adapter 생성\n",
        "        // adapter를 listview 컴포넌트의 adapter 속성에 할당\n",
        "        // 지정된 디렉터리 위치는 ExternalStoragePublicDirectory에서 \"문서(DIRECTORY_Documents)\" 디렉터리로 한다.\n",
        "        // 디렉터리 위치를 문자열로 할당\n",
        "        var rootDirectory = MyApplication.preferences.getString(\"saveLocation\", \".\")\n",
        "        Log.d(\"myCheck\", \"FilelistAcctivity - ${rootDirectory}\")\n",
        "        // 문자열 값인 rootDirectory를 사용해서 File 객체 생성\n",
        "        var fileDir = File(rootDirectory)\n",
        "        // fileDir에서 파일 목록을 읽어 fileArrayList에 할당\n",
        "        var filelist = fileDir.listFiles()\n",
        "        filelistArray = ArrayList<String>()\n",
        "\n",
        "        Log.d(\"myCheck\", \"FilelistAcctivity - ${filelist}\")\n",
        "        // filelist에서 파일의 이름을 하나씩 읽어 배열에 추가하여 파일 이름을 담는 문자열 배열을 생성한다.\n",
        "        for(i in 0 until filelist.size) {\n",
        "            Log.d(\"myCheck<\", \"${filelist[i]} 번째 파일 목록 추가 \")\n",
        "            Log.d(\"myCheck<\", \"파일 구분 : ${filelist[i].name}  \")\n",
        "            if(!filelist[i].isDirectory) {\n",
        "                // 지정된 이름 항목이 디렉터리가 아닌 경우\n",
        "                filelistArray.add(filelist[i].name)           // filelist[i] 번째 항목의 이름을 배열에 추가\n",
        "                Log.d(\"myCheck\", \"FilelistAcctivity - 파일 목록 : ${filelist[i]}\")\n",
        "            }\n",
        "        }\n",
        "\n",
        "        // 문자열 배열을 이용하여 adapter를 만들고, listView의 adapter 속성에 할당한다.\n",
        "        binding.listView.adapter = ArrayAdapter<String>(this, R.layout.simple_list_item_1, filelistArray)\n",
        "\n",
        "        // listView에서 하나의 항목을 클릭할 때 이벤트 처리\n",
        "        binding.listView.setOnItemClickListener() { adapterView, view, i, l ->\n",
        "            // 3번째 인수인 i가 listView에서 선택된 항목의 인덱스이다.\n",
        "            // 파일을 열기 위한 공유 변수에 저장\n",
        "            MyApplication.preferences.setString(\"filename\", filelistArray[i])\n",
        "            Log.d(\"myCheck\", \"FilelistActivity 종료 - finish 직전\")\n",
        "            finish()    // 파일 목록을 나타내는 intent 종료하고 main으로 돌아간다.\n",
        "        }\n",
        "    }\n",
        "}"
      ],
      "metadata": {
        "colab": {
          "base_uri": "https://localhost:8080/",
          "height": 109
        },
        "id": "Y7UR4olYAXH8",
        "outputId": "6b37f881-4bed-46e3-edea-13f6fa6328fa"
      },
      "execution_count": 6,
      "outputs": [
        {
          "output_type": "error",
          "ename": "SyntaxError",
          "evalue": "invalid decimal literal (<ipython-input-6-89f40658c151>, line 56)",
          "traceback": [
            "\u001b[0;36m  File \u001b[0;32m\"<ipython-input-6-89f40658c151>\"\u001b[0;36m, line \u001b[0;32m56\u001b[0m\n\u001b[0;31m    // 3번째 인수인 i가 listView에서 선택된 항목의 인덱스이다.\u001b[0m\n\u001b[0m       ^\u001b[0m\n\u001b[0;31mSyntaxError\u001b[0m\u001b[0;31m:\u001b[0m invalid decimal literal\n"
          ]
        }
      ]
    },
    {
      "cell_type": "markdown",
      "source": [
        "# box_boreder.xml"
      ],
      "metadata": {
        "id": "x467UDbk_7nJ"
      }
    },
    {
      "cell_type": "code",
      "execution_count": 2,
      "metadata": {
        "colab": {
          "base_uri": "https://localhost:8080/",
          "height": 109
        },
        "id": "yMSss_BS_mDO",
        "outputId": "41468e22-3b95-48dd-ac35-fa5f4be9c758"
      },
      "outputs": [
        {
          "output_type": "error",
          "ename": "SyntaxError",
          "evalue": "invalid syntax (<ipython-input-2-aae328a408bd>, line 1)",
          "traceback": [
            "\u001b[0;36m  File \u001b[0;32m\"<ipython-input-2-aae328a408bd>\"\u001b[0;36m, line \u001b[0;32m1\u001b[0m\n\u001b[0;31m    <?xml version=\"1.0\" encoding=\"utf-8\"?>\u001b[0m\n\u001b[0m    ^\u001b[0m\n\u001b[0;31mSyntaxError\u001b[0m\u001b[0;31m:\u001b[0m invalid syntax\n"
          ]
        }
      ],
      "source": [
        "<?xml version=\"1.0\" encoding=\"utf-8\"?>\n",
        "<shape xmlns:android=\"http://schemas.android.com/apk/res/android\"\n",
        "    android:shape=\"rectangle\">\n",
        "    <stroke android:width=\"2dp\" android:color=\"#ff0000\"/>\n",
        "    <corners android:radius=\"5dp\" />\n",
        "    <solid android:color=\"#ffffff\" />\n",
        "</shape>"
      ]
    },
    {
      "cell_type": "code",
      "source": [],
      "metadata": {
        "id": "-5unfj5J__Xz"
      },
      "execution_count": null,
      "outputs": []
    }
  ]
}