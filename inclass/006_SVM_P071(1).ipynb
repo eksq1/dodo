{
  "nbformat": 4,
  "nbformat_minor": 0,
  "metadata": {
    "colab": {
      "provenance": [],
      "authorship_tag": "ABX9TyOrE3UB96ic0Fk3+a6uayed",
      "include_colab_link": true
    },
    "kernelspec": {
      "name": "python3",
      "display_name": "Python 3"
    },
    "language_info": {
      "name": "python"
    }
  },
  "cells": [
    {
      "cell_type": "markdown",
      "metadata": {
        "id": "view-in-github",
        "colab_type": "text"
      },
      "source": [
        "<a href=\"https://colab.research.google.com/github/eksq1/dodo/blob/main/inclass/006_SVM_P071(1).ipynb\" target=\"_parent\"><img src=\"https://colab.research.google.com/assets/colab-badge.svg\" alt=\"Open In Colab\"/></a>"
      ]
    },
    {
      "cell_type": "markdown",
      "source": [
        "### SVM(Support Vector Machine)"
      ],
      "metadata": {
        "id": "rSri_7psxn0A"
      }
    },
    {
      "cell_type": "markdown",
      "source": [
        "#### import library"
      ],
      "metadata": {
        "id": "kQlcwZQCxq21"
      }
    },
    {
      "cell_type": "code",
      "execution_count": 1,
      "metadata": {
        "id": "jRx2Mqwhxjuz"
      },
      "outputs": [],
      "source": [
        "# library\n",
        "import numpy as np\n",
        "import pandas as pd\n",
        "import matplotlib.pyplot as plt\n",
        "#import tensorflow as tf\n",
        "\n",
        "from sklearn import svm\n",
        "from sklearn import metrics\n",
        "from sklearn import datasets\n",
        "from sklearn.model_selection import train_test_split\n",
        "from sklearn.svm import SVC\n",
        "import os\n",
        "\n",
        "#         # 환경경변수를 사용하여 로깅을 제어:\n",
        "#         # 기본-0/ INFO 로그로 필터링:1/ WARNING 로그로 필터:2, Error 로그를 추가로 필터링: 3  설정\n",
        "os.environ['TF_CPP_MIN_LOG_LEVEL'] = '3'"
      ]
    },
    {
      "cell_type": "markdown",
      "source": [
        "#### training dataset : 40% / test dataset : 60%"
      ],
      "metadata": {
        "id": "kx1CVyFDxzMU"
      }
    },
    {
      "cell_type": "code",
      "source": [
        "# sklearn에서 제공하는 iris 데이터 호출\n",
        "iris = datasets.load_iris()\n",
        "\n",
        "            # sklearn에서 제공하는 model_selection  패키지에서 제공하는 train_test_split() 메서드를 활용\n",
        "X_train, X_test, y_train, y_test = train_test_split(iris.data, iris.target, test_size=0.3, random_state=42)   # 값을 동일하게\n",
        "\n",
        "X_train.shape\n",
        "#X_test.shape\n",
        "#y_train.shape\n",
        "#y_test.shape"
      ],
      "metadata": {
        "colab": {
          "base_uri": "https://localhost:8080/"
        },
        "id": "3j3R47dtxuM4",
        "outputId": "7884a050-f97e-45d6-fc65-61a45c0448b3"
      },
      "execution_count": 4,
      "outputs": [
        {
          "output_type": "execute_result",
          "data": {
            "text/plain": [
              "(105, 4)"
            ]
          },
          "metadata": {},
          "execution_count": 4
        }
      ]
    },
    {
      "cell_type": "code",
      "source": [
        "# SVM model accuracy\n",
        "#svm = svm.SVC(kernel='linear', C=1.0, gamma=0.5)\n",
        "#svm.fit(X_train, y_train)\n",
        "\n",
        "model = svm.SVC(kernel='linear', C=1.0, gamma=0.5)  # kernel = 'linear' : 선형 커널을 사용하여 데이터를 분류,\n",
        "                                                    # c=1.0: 오류에 대한 패널티를 조절하는 하이퍼파라미터(값이 크면 오분류 패널티가 커져 과적합 가능성 높아짐)\n",
        "                                                    # gamma=0.5 : RBF 커널(Radial Basis Function: 방사 기저 함수: 비선형 커널 - SVM, PCA 에서 주로 사용) 파라미터, 데어티 포인트이 영향력 조절, 선형커널을 사용하므로 직접적 영향 없음.\n",
        "                                                    #                                                                                (Principle Component Analysis : 주성분 분석 - 차원을 줄이기 위함(unsupervised leanring에 많이 사용))\n",
        "model.fit(X_train, y_train)                         # 훈련 데이터를 사용하여 svm 분류기를 훈련\n",
        "\n",
        "predictions = model.predict(X_test)                 # 훈련된 모델을 사용하여 테스트 데이터에서 예측\n",
        "score = metrics.accuracy_score(y_test, predictions)\n",
        "print(\"정확도: {0:0.3f}\".format(score))"
      ],
      "metadata": {
        "colab": {
          "base_uri": "https://localhost:8080/"
        },
        "id": "pTipOGkvx5ae",
        "outputId": "b155ad86-e298-427b-ec18-57954c6b940c"
      },
      "execution_count": 3,
      "outputs": [
        {
          "output_type": "stream",
          "name": "stdout",
          "text": [
            "정확도: 1.000\n"
          ]
        }
      ]
    },
    {
      "cell_type": "markdown",
      "source": [
        "### a little bit more....."
      ],
      "metadata": {
        "id": "TxScKMZyx_0l"
      }
    },
    {
      "cell_type": "code",
      "source": [
        "print(y_test)\n",
        "print(predictions)"
      ],
      "metadata": {
        "colab": {
          "base_uri": "https://localhost:8080/"
        },
        "id": "kmPmpVljx95Z",
        "outputId": "c7411ed6-0994-4b32-c255-bf0af90ffc35"
      },
      "execution_count": 5,
      "outputs": [
        {
          "output_type": "stream",
          "name": "stdout",
          "text": [
            "[1 0 2 1 1 0 1 2 1 1 2 0 0 0 0 1 2 1 1 2 0 2 0 2 2 2 2 2 0 0 0 0 1 0 0 2 1\n",
            " 0 0 0 2 1 1 0 0]\n",
            "[1 0 2 1 1 0 1 2 1 1 2 0 0 0 0 1 2 1 1 2 0 2 0 2 2 2 2 2 0 0]\n"
          ]
        }
      ]
    },
    {
      "cell_type": "code",
      "source": [
        "# sklearn에서 제공하는 iris 데이터 호출\n",
        "iris = datasets.load_iris()\n",
        "\n",
        "# sklearn에서 제공하는 model_selection  패키지에서 제공하는 train_test_split() 메서드를 활용\n",
        "X_train, X_test, y_train, y_test = train_test_split(iris.data, iris.target, test_size=0.3, random_state=42)   # 값을 동일하게\n",
        "\n",
        "# SVM model accuracy\n",
        "model = svm.SVC(kernel='linear', C=1.0, gamma=0.5)  # kernel = 'linear' : 선형 커널을 사용하여 데이터를 분류,\n",
        "                                                    # c=1.0: 오류에 대한 패널티를 조절하는 하이퍼파라미터(값이 크면 오분류 패널티가 커져 과적합 가능성 높아짐)\n",
        "                                                    # gamma=0.5 : RBF 커널(Radial Basis Function: 방사 기저 함수: 비선형 커널 - SVM, PCA 에서 주로 사용) 파라미터, 데어티 포인트이 영향력 조절, 선형커널을 사용하므로 직접적 영향 없음.\n",
        "                                                    #                                                                                (Principle Component Analysis : 주성분 분석 - 차원을 줄이기 위함(unsupervised leanring에 많이 사용))\n",
        "model.fit(X_train, y_train)                         # 훈련 데이터를 사용하여 svm 분류기를 훈련\n",
        "\n",
        "predictions = model.predict(X_test)                 # 훈련된 모델을 사용하여 테스트 데이터에서 예측\n",
        "\n",
        "print(metrics.classification_report(y_test, predictions))"
      ],
      "metadata": {
        "colab": {
          "base_uri": "https://localhost:8080/"
        },
        "id": "lmm8mxZtyqAy",
        "outputId": "81541e6c-667d-41b4-f0c5-be2b2d46e040"
      },
      "execution_count": 7,
      "outputs": [
        {
          "output_type": "stream",
          "name": "stdout",
          "text": [
            "              precision    recall  f1-score   support\n",
            "\n",
            "           0       1.00      1.00      1.00        19\n",
            "           1       1.00      1.00      1.00        13\n",
            "           2       1.00      1.00      1.00        13\n",
            "\n",
            "    accuracy                           1.00        45\n",
            "   macro avg       1.00      1.00      1.00        45\n",
            "weighted avg       1.00      1.00      1.00        45\n",
            "\n"
          ]
        }
      ]
    },
    {
      "cell_type": "markdown",
      "source": [
        "## SVM 2"
      ],
      "metadata": {
        "id": "PfkthH1tzyS2"
      }
    },
    {
      "cell_type": "code",
      "source": [
        "# 필요한 라이브러리 임포트\n",
        "from sklearn import datasets\n",
        "import pandas as pd\n",
        "import numpy as np\n",
        "import matplotlib.pyplot as plt\n",
        "\n",
        "# iris 데이터셋을 로드\n",
        "iris = datasets.load_iris()\n",
        "\n",
        "# iris 데이터를 이용해 데이터프레임 생성\n",
        "df = pd.DataFrame(iris.data, columns=iris.feature_names)\n",
        "\n",
        "# 'target' 열 추가\n",
        "df['target'] = iris.target\n",
        "\n",
        "# 'target_names'을 이용해 꽃 이름 추가\n",
        "df['flower_name'] = df['target'].apply(lambda x: iris.target_names[x])\n",
        "\n",
        "# 각 종별로 데이터프레임 분리\n",
        "df0 = df[df.target == 0]\n",
        "df1 = df[df.target == 1]\n",
        "df2 = df[df.target == 2]\n",
        "\n",
        "# 산점도 그리기\n",
        "plt.scatter(df0['sepal length (cm)'], df0['sepal width (cm)'], color='green', marker='+', label='Setosa')\n",
        "plt.scatter(df1['sepal length (cm)'], df1['sepal width (cm)'], color='blue', marker='+', label='Versicolor')\n",
        "\n",
        "plt.xlabel('sepal length (cm)')\n",
        "plt.ylabel('sepal width (cm)')\n",
        "plt.legend()  # 범례 추가\n",
        "plt.show()"
      ],
      "metadata": {
        "colab": {
          "base_uri": "https://localhost:8080/",
          "height": 452
        },
        "id": "VN65LqBO5Rbk",
        "outputId": "934b63a8-4a19-4c92-9157-07a061820b39"
      },
      "execution_count": 13,
      "outputs": [
        {
          "output_type": "display_data",
          "data": {
            "text/plain": [
              "<Figure size 640x480 with 1 Axes>"
            ],
            "image/png": "[encoded data removed]"
          },
          "metadata": {}
        }
      ]
    },
    {
      "cell_type": "code",
      "source": [
        "plt.scatter(df0['petal length (cm)'], df0['petal width (cm)'], color = 'green', marker = '+')\n",
        "plt.scatter(df1['petal length (cm)'], df1['petal width (cm)'], color = 'blue', marker = '+')\n",
        "plt.xlabel('petal length (cm)')\n",
        "plt.ylabel('petal width (cm)')"
      ],
      "metadata": {
        "colab": {
          "base_uri": "https://localhost:8080/",
          "height": 467
        },
        "id": "HaNSBLrWzdh3",
        "outputId": "6fc6c019-e18d-465e-aceb-9ea83dc5c27b"
      },
      "execution_count": 14,
      "outputs": [
        {
          "output_type": "execute_result",
          "data": {
            "text/plain": [
              "Text(0, 0.5, 'petal width (cm)')"
            ]
          },
          "metadata": {},
          "execution_count": 14
        },
        {
          "output_type": "display_data",
          "data": {
            "text/plain": [
              "<Figure size 640x480 with 1 Axes>"
            ],
            "image/png": "[encoded data removed]"
          },
          "metadata": {}
        }
      ]
    }
  ]
}